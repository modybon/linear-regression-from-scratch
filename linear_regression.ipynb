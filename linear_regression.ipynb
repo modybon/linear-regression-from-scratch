{
 "cells": [
  {
   "cell_type": "code",
   "execution_count": 1,
   "id": "dc234279-6295-464f-982a-2cea202851ff",
   "metadata": {},
   "outputs": [],
   "source": [
    "import pandas as pd\n",
    "import numpy as np\n",
    "import matplotlib.pyplot as plt\n",
    "import seaborn as sns"
   ]
  },
  {
   "cell_type": "code",
   "execution_count": 2,
   "id": "e879794b-20b4-488d-b580-0bcc044b3e46",
   "metadata": {},
   "outputs": [],
   "source": [
    "def variance(x):\n",
    "    n = len(x)\n",
    "    x_mean = np.mean(x, axis=0)\n",
    "    var = np.sum((x - x_mean)**2) / n \n",
    "    return var\n",
    "\n",
    "def std(x):\n",
    "    return np.sqrt(variance(x))\\\n",
    "\n",
    "def sum_squared_error (y, line):\n",
    "    n = len(y)\n",
    "    error = np.sum( (y - line[:n])**2)\n",
    "    return error\n",
    "\n",
    "def r2(y,line):\n",
    "    n = len(y)\n",
    "    mean_var = variance(y)\n",
    "    fit_var = sum_squared_error(y,line[:n]) / n \n",
    "    #r2 = mean_var - fit_var / mean_var\n",
    "    r2 = 1 - fit_var / mean_var\n",
    "    return r2\n",
    "\n",
    "def f_score(y, line):\n",
    "    n = len(y)\n",
    "    p = 2\n",
    "    mean_var = np.sum((y-np.mean(y))**2) # \n",
    "    fit_var = sum_squared_error(y,line[:n])\n",
    "    explained_var = (mean_var - fit_var) / (p-1)\n",
    "    unexplained_var = fit_var / (n-2)\n",
    "    f = explained_var / unexplained_var\n",
    "    return f"
   ]
  },
  {
   "cell_type": "markdown",
   "id": "420b9891-04ae-4927-803d-56f594367844",
   "metadata": {},
   "source": [
    "# Equations"
   ]
  },
  {
   "cell_type": "markdown",
   "id": "c11b064a-e1bc-4083-aa65-18145fe3ad0c",
   "metadata": {},
   "source": [
    "## Linear Equation"
   ]
  },
  {
   "cell_type": "markdown",
   "id": "55c94e03-a2fb-4547-aa53-35ae84d13fa7",
   "metadata": {},
   "source": [
    "$\\hat{y} = wx + b$."
   ]
  },
  {
   "cell_type": "markdown",
   "id": "014d608c-483b-4434-8977-9b44ba052ee4",
   "metadata": {},
   "source": [
    "## Cost Function"
   ]
  },
  {
   "cell_type": "markdown",
   "id": "14918a41-4d03-41af-b09f-51379dac0609",
   "metadata": {},
   "source": [
    "$\n",
    "\\text{MSE} = \\frac{1}{N} \\sum_{i=1}^n (y_i - \\hat{y}_i)^2\n",
    "$"
   ]
  },
  {
   "cell_type": "markdown",
   "id": "5565d37e-082f-4b8e-8bc2-266adaa45c4a",
   "metadata": {},
   "source": [
    "# Derivatives"
   ]
  },
  {
   "cell_type": "markdown",
   "id": "d6e36c02-a877-40da-81cb-d513a6f39314",
   "metadata": {},
   "source": [
    "$\\frac{df}{dw} = -2 x \\cdot \\big(y_i - (w x + b)\\big) = -2x \\cdot \\big(y_i - \\hat{y})$"
   ]
  },
  {
   "cell_type": "markdown",
   "id": "10889f3d-bfce-4a3b-b1e3-b33df047e341",
   "metadata": {},
   "source": [
    "$\\frac{df}{db} = -2 \\cdot \\big(y_i - (w x + b)\\big) = -2 \\cdot \\big(y_i - \\hat{y})$"
   ]
  },
  {
   "cell_type": "markdown",
   "id": "658f5ea4-a886-42f8-a7c5-d76eaf3fe445",
   "metadata": {},
   "source": [
    "## Update Rules"
   ]
  },
  {
   "cell_type": "markdown",
   "id": "f5234dcc-7f22-4d0c-a785-04a9f8cba2e8",
   "metadata": {},
   "source": [
    "$ a: Learning Rate$"
   ]
  },
  {
   "cell_type": "markdown",
   "id": "71756059-daa7-4d9c-8e8b-f28b58b47d99",
   "metadata": {},
   "source": [
    "${w} = w - a \\cdot dw$."
   ]
  },
  {
   "cell_type": "markdown",
   "id": "08106bdd-d901-4116-acdd-9b6c98645263",
   "metadata": {},
   "source": [
    "$b = b - a \\cdot db$"
   ]
  },
  {
   "cell_type": "markdown",
   "id": "e386f97f-df39-47d2-9cc4-6cd34bc32736",
   "metadata": {},
   "source": [
    "# Model"
   ]
  },
  {
   "cell_type": "code",
   "execution_count": 103,
   "id": "7a005edf-efd7-47ba-a065-35eaf4c02955",
   "metadata": {},
   "outputs": [],
   "source": [
    "class LinearRegression():\n",
    "    def __init__(self, lr=0.001, epochs=100):\n",
    "        self.lr = lr\n",
    "        self.epochs = epochs\n",
    "        \n",
    "    def loss_function(self,actual, prediction):\n",
    "        n = len(actual)\n",
    "        loss = np.sum((actual - prediction)**2) / n\n",
    "        return loss\n",
    "\n",
    "    def calculate_weight_derivative(self,x,loss):\n",
    "        dw = -2*x * loss\n",
    "        db = -2 * loss\n",
    "        return dw, db\n",
    "\n",
    "    def update_weights(self,w, dw):\n",
    "        return w - self.lr * dw\n",
    "\n",
    "    def fit(self,x,y):\n",
    "        self.weights = np.random.randn(x.shape[1])\n",
    "        self.bias = np.random.randn(1)\n",
    "        for i in range(self.epochs):\n",
    "            for j in range(len(x)):\n",
    "                y_hat = np.dot(x[j] , self.weights) + self.bias\n",
    "                loss = (y[j] - y_hat)\n",
    "                dw, db = self.calculate_weight_derivative(x[j],loss)\n",
    "                self.weights = self.update_weights(self.weights, dw)\n",
    "                self.bias = self.update_weights(self.bias, db)\n",
    "\n",
    "    def predict(self,x):\n",
    "        return np.dot(x ,self.weights) + self.bias"
   ]
  },
  {
   "cell_type": "code",
   "execution_count": 143,
   "id": "f4475a31-89a9-4bd6-adf8-8db43a7f44c0",
   "metadata": {},
   "outputs": [],
   "source": [
    "df = pd.read_csv('multiple_linear_regression_dataset.csv')\n",
    "x = df.iloc[:, 1:2].values\n",
    "y = df.iloc[:, -1].values"
   ]
  },
  {
   "cell_type": "code",
   "execution_count": 144,
   "id": "ea2aa74d-1809-46d6-9e5c-a45787a7a809",
   "metadata": {},
   "outputs": [],
   "source": [
    "# Train model\n",
    "model = LinearRegression(lr=0.01, epochs=10)\n",
    "model.fit(x, y)"
   ]
  },
  {
   "cell_type": "code",
   "execution_count": 145,
   "id": "9e002460-6e3a-41e0-b7ca-3fecd8e7257c",
   "metadata": {},
   "outputs": [],
   "source": [
    "y_pred = model.predict(x)"
   ]
  },
  {
   "cell_type": "code",
   "execution_count": 147,
   "id": "1f4a4301-64b1-44f1-a30e-f2605568d492",
   "metadata": {},
   "outputs": [
    {
     "data": {
      "text/plain": [
       "<matplotlib.collections.PathCollection at 0x7f56fcc7ea50>"
      ]
     },
     "execution_count": 147,
     "metadata": {},
     "output_type": "execute_result"
    },
    {
     "data": {
      "image/png": "[encoded data removed]",
      "text/plain": [
       "<Figure size 640x480 with 1 Axes>"
      ]
     },
     "metadata": {},
     "output_type": "display_data"
    }
   ],
   "source": [
    "plt.scatter(x, y)\n",
    "plt.scatter(x,y_pred, color='red')"
   ]
  },
  {
   "cell_type": "code",
   "execution_count": 151,
   "id": "57060f1a-4f82-44b0-8a4c-be4dbd8cd67c",
   "metadata": {},
   "outputs": [
    {
     "data": {
      "text/plain": [
       "<matplotlib.collections.PathCollection at 0x7f56fcac1700>"
      ]
     },
     "execution_count": 151,
     "metadata": {},
     "output_type": "execute_result"
    },
    {
     "data": {
      "image/png": "[encoded data removed]",
      "text/plain": [
       "<Figure size 640x480 with 1 Axes>"
      ]
     },
     "metadata": {},
     "output_type": "display_data"
    }
   ],
   "source": [
    "plt.scatter(df['age'], y)"
   ]
  },
  {
   "cell_type": "code",
   "execution_count": null,
   "id": "93a34bab-bbd7-4298-9044-1fa93b555a86",
   "metadata": {},
   "outputs": [],
   "source": []
  }
 ],
 "metadata": {
  "kernelspec": {
   "display_name": "Python 3 (ipykernel)",
   "language": "python",
   "name": "python3"
  },
  "language_info": {
   "codemirror_mode": {
    "name": "ipython",
    "version": 3
   },
   "file_extension": ".py",
   "mimetype": "text/x-python",
   "name": "python",
   "nbconvert_exporter": "python",
   "pygments_lexer": "ipython3",
   "version": "3.12.3"
  }
 },
 "nbformat": 4,
 "nbformat_minor": 5
}
