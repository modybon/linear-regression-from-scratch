{
 "cells": [
  {
   "cell_type": "code",
   "execution_count": 1,
   "id": "dc234279-6295-464f-982a-2cea202851ff",
   "metadata": {},
   "outputs": [],
   "source": [
    "import pandas as pd\n",
    "import numpy as np\n",
    "import matplotlib.pyplot as plt\n",
    "import seaborn as sns\n",
    "from sklearn.metrics import mean_squared_error, r2_score"
   ]
  },
  {
   "cell_type": "code",
   "execution_count": 2,
   "id": "e879794b-20b4-488d-b580-0bcc044b3e46",
   "metadata": {},
   "outputs": [],
   "source": [
    "def calculate_rmse(actual, predictions):\n",
    "    return np.sqrt(np.sum((actual - predictions)**2) / len(actual))\n",
    "\n",
    "def calculate_variance(x):\n",
    "    return np.sum( (x - np.mean(x))**2 ) / len(x)\n",
    "\n",
    "def calculate_error_variance(y,y_pred):\n",
    "    return np.sum( (y - y_pred)**2) / len(y)\n",
    "\n",
    "def calculate_r2(y,y_pred):\n",
    "    y_mean = np.mean(y)\n",
    "    error_variance_using_mean = calculate_error_variance(y, y_mean)\n",
    "    error_variance_using_fit_line = calculate_error_variance(y, y_pred)\n",
    "    return (error_variance_using_mean - error_variance_using_fit_line) / error_variance_using_mean\n",
    "    \n",
    "def get_model_f_stat(y,y_pred, parameters_num):\n",
    "    y_mean = np.mean(y)\n",
    "    error_variance_using_mean = calculate_error_variance(y, y_mean)\n",
    "    error_variance_using_fit_line = calculate_error_variance(y, y_pred)\n",
    "\n",
    "    error_variation_explained_by_fit_line = (error_variance_using_mean - error_variance_using_fit_line) / (parameters_num-1)\n",
    "    error_variation_not_explained_by_fit_line = error_variance_using_fit_line / (len(y)-parameters_num)\n",
    "\n",
    "    return error_variation_explained_by_fit_line / error_variation_not_explained_by_fit_line"
   ]
  },
  {
   "cell_type": "code",
   "execution_count": 3,
   "id": "53533048-a71b-498f-9c18-fe333e74c65e",
   "metadata": {},
   "outputs": [],
   "source": [
    "def calclate_r_correlation(v1,v2):\n",
    "    v1_normalized = v1 - np.mean(v1)\n",
    "    v2_normalized = v2 - np.mean(v2)\n",
    "\n",
    "    return np.dot(v1_normalized, v2_normalized) / np.dot(np.sqrt(np.sum(v1_normalized**2)) , np.sqrt(np.sum(v2_normalized**2)))"
   ]
  },
  {
   "cell_type": "markdown",
   "id": "420b9891-04ae-4927-803d-56f594367844",
   "metadata": {},
   "source": [
    "# Equations"
   ]
  },
  {
   "cell_type": "markdown",
   "id": "c11b064a-e1bc-4083-aa65-18145fe3ad0c",
   "metadata": {},
   "source": [
    "## Linear Equation"
   ]
  },
  {
   "cell_type": "markdown",
   "id": "55c94e03-a2fb-4547-aa53-35ae84d13fa7",
   "metadata": {},
   "source": [
    "$\\hat{y} = wx + b$."
   ]
  },
  {
   "cell_type": "markdown",
   "id": "014d608c-483b-4434-8977-9b44ba052ee4",
   "metadata": {},
   "source": [
    "## Cost Function"
   ]
  },
  {
   "cell_type": "markdown",
   "id": "14918a41-4d03-41af-b09f-51379dac0609",
   "metadata": {},
   "source": [
    "$\n",
    "\\text{MSE} = \\frac{1}{N} \\sum_{i=1}^n (y_i - \\hat{y}_i)^2\n",
    "$"
   ]
  },
  {
   "cell_type": "markdown",
   "id": "5565d37e-082f-4b8e-8bc2-266adaa45c4a",
   "metadata": {},
   "source": [
    "# Derivatives"
   ]
  },
  {
   "cell_type": "markdown",
   "id": "d6e36c02-a877-40da-81cb-d513a6f39314",
   "metadata": {},
   "source": [
    "$\\frac{df}{dw} = -2 x \\cdot \\big(y_i - (w x + b)\\big) = -2x \\cdot \\big(y_i - \\hat{y})$"
   ]
  },
  {
   "cell_type": "markdown",
   "id": "10889f3d-bfce-4a3b-b1e3-b33df047e341",
   "metadata": {},
   "source": [
    "$\\frac{df}{db} = -2 \\cdot \\big(y_i - (w x + b)\\big) = -2 \\cdot \\big(y_i - \\hat{y})$"
   ]
  },
  {
   "cell_type": "markdown",
   "id": "658f5ea4-a886-42f8-a7c5-d76eaf3fe445",
   "metadata": {},
   "source": [
    "## Update Rules"
   ]
  },
  {
   "cell_type": "markdown",
   "id": "f5234dcc-7f22-4d0c-a785-04a9f8cba2e8",
   "metadata": {},
   "source": [
    "$ a: Learning Rate$"
   ]
  },
  {
   "cell_type": "markdown",
   "id": "71756059-daa7-4d9c-8e8b-f28b58b47d99",
   "metadata": {},
   "source": [
    "${w} = w - a \\cdot dw$."
   ]
  },
  {
   "cell_type": "markdown",
   "id": "08106bdd-d901-4116-acdd-9b6c98645263",
   "metadata": {},
   "source": [
    "$b = b - a \\cdot db$"
   ]
  },
  {
   "cell_type": "markdown",
   "id": "e386f97f-df39-47d2-9cc4-6cd34bc32736",
   "metadata": {},
   "source": [
    "# Model"
   ]
  },
  {
   "cell_type": "code",
   "execution_count": 5,
   "id": "7a005edf-efd7-47ba-a065-35eaf4c02955",
   "metadata": {},
   "outputs": [],
   "source": [
    "class CustomLinearRegression():\n",
    "    def __init__(self, lr=0.001, epochs=100):\n",
    "        self.lr = lr\n",
    "        self.epochs = epochs\n",
    "        \n",
    "    def loss_function(self,actual, prediction):\n",
    "        n = len(actual)\n",
    "        loss = np.sum((actual - prediction)**2) / n\n",
    "        return loss\n",
    "\n",
    "    def calculate_weight_derivative(self,x,loss):\n",
    "        dw = -2*x * loss\n",
    "        db = -2 * loss\n",
    "        return dw, db\n",
    "\n",
    "    def update_weights(self,w, dw):\n",
    "        return w - self.lr * dw\n",
    "\n",
    "    def fit(self,x,y):\n",
    "        self.weights = np.random.randn(x.shape[1])\n",
    "        self.bias = np.random.randn(1)\n",
    "        self.losses = []\n",
    "        for i in range(self.epochs):\n",
    "            #print(self.weights, self.bias)\n",
    "            sum_loss = 0\n",
    "            for j in range(len(x)):\n",
    "                y_hat = np.dot(x[j] , self.weights) + self.bias\n",
    "                loss = (y[j] - y_hat)\n",
    "                sum_loss += loss\n",
    "                dw, db = self.calculate_weight_derivative(x[j],loss)\n",
    "                self.weights = self.update_weights(self.weights, dw)\n",
    "                self.bias = self.update_weights(self.bias, db)\n",
    "            self.losses.append(sum_loss / len(x))\n",
    "\n",
    "    def predict(self,x):\n",
    "        return np.dot(x ,self.weights) + self.bias\n",
    "\n",
    "    def display_loss(self):\n",
    "        epochs_list = np.arange(1, self.epochs+1, 1)\n",
    "        plt.plot(epochs_list,self.losses)\n",
    "        plt.title(\"Loss\")\n",
    "        plt.xlabel(\"Epochs\")\n",
    "        plt.ylabel(\"Loss\")                "
   ]
  },
  {
   "cell_type": "code",
   "execution_count": null,
   "id": "f4475a31-89a9-4bd6-adf8-8db43a7f44c0",
   "metadata": {},
   "outputs": [],
   "source": [
    "from sklearn.preprocessing import MinMaxScaler\n",
    "from sklearn.model_selection import train_test_split\n",
    "\n",
    "df = pd.read_csv('multiple_linear_regression_dataset.csv')\n",
    "scaler = MinMaxScaler()\n",
    "X = scaler.fit_transform(df.iloc[:, 0:2])\n",
    "y = df.iloc[:, -1].values\n",
    "\n",
    "X_train, X_test, y_train, y_test = train_test_split(X, y, test_size=0.3, random_state=42)"
   ]
  },
  {
   "cell_type": "code",
   "execution_count": null,
   "id": "ea2aa74d-1809-46d6-9e5c-a45787a7a809",
   "metadata": {},
   "outputs": [],
   "source": [
    "# Train model\n",
    "model = CustomLinearRegression(lr=0.01, epochs=300)\n",
    "model.fit(X_train, y_train)\n",
    "model.display_loss()"
   ]
  },
  {
   "cell_type": "code",
   "execution_count": null,
   "id": "6e92ee2f-281e-4ff3-abac-40bf0ee64df1",
   "metadata": {},
   "outputs": [],
   "source": []
  },
  {
   "cell_type": "code",
   "execution_count": null,
   "id": "bd91ad24-8bc4-4c46-9924-d142e7270057",
   "metadata": {},
   "outputs": [],
   "source": [
    "y_pred = model.predict(X_train)\n",
    "\n",
    "rmse = calculate_rmse(y_train, y_pred)\n",
    "r2 = calculate_r2(y_train,y_pred)\n",
    "model_f_stat = get_model_f_stat(y_train, y_pred, 2)\n",
    "\n",
    "print(rmse, r2, model_f_stat)\n",
    "\n",
    "print(np.sqrt(mean_squared_error(y_train, y_pred)), r2_score(y_train, y_pred))"
   ]
  },
  {
   "cell_type": "code",
   "execution_count": null,
   "id": "9e002460-6e3a-41e0-b7ca-3fecd8e7257c",
   "metadata": {},
   "outputs": [],
   "source": [
    "y_pred = model.predict(X_test)\n",
    "\n",
    "rmse = calculate_rmse(y_test, y_pred)\n",
    "r2 = calculate_r2(y_test,y_pred)\n",
    "model_f_stat = get_model_f_stat(y_test, y_pred, 2)\n",
    "rmse, r2, model_f_stat\n",
    "\n",
    "print(rmse, r2, model_f_stat)\n",
    "\n",
    "print(np.sqrt(mean_squared_error(y_test, y_pred)), r2_score(y_test, y_pred))"
   ]
  }
 ],
 "metadata": {
  "kernelspec": {
   "display_name": "Python 3 (ipykernel)",
   "language": "python",
   "name": "python3"
  },
  "language_info": {
   "codemirror_mode": {
    "name": "ipython",
    "version": 3
   },
   "file_extension": ".py",
   "mimetype": "text/x-python",
   "name": "python",
   "nbconvert_exporter": "python",
   "pygments_lexer": "ipython3",
   "version": "3.12.3"
  }
 },
 "nbformat": 4,
 "nbformat_minor": 5
}
